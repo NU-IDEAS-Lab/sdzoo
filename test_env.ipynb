{
 "cells": [
  {
   "cell_type": "code",
   "execution_count": 1,
   "metadata": {},
   "outputs": [],
   "source": [
    "%reload_ext autoreload\n",
    "%autoreload 2\n",
    "import os\n",
    "import networkx as nx\n",
    "\n",
    "from sdzoo.env.sdzoo import parallel_env\n",
    "from sdzoo.env.sd_graph import SDGraph\n"
   ]
  },
  {
   "cell_type": "code",
   "execution_count": null,
   "metadata": {},
   "outputs": [],
   "source": [
    "sdg = SDGraph(numNodes=9, payloads=25)\n",
    "sdg.exportToFile(\"test_9nodes_25payloads.graph\")"
   ]
  },
  {
   "cell_type": "code",
   "execution_count": null,
   "metadata": {},
   "outputs": [],
   "source": [
    "for node in sdg.graph.nodes:\n",
    "    print(node, sdg.graph.nodes[node])"
   ]
  },
  {
   "cell_type": "code",
   "execution_count": 2,
   "metadata": {},
   "outputs": [],
   "source": [
    "def check_graph(search_deliver_graph):\n",
    "    total_people = 0\n",
    "    for node in search_deliver_graph.graph.nodes:\n",
    "        total_people += search_deliver_graph.graph.nodes[node]['people']\n",
    "\n",
    "    total_payloads = 0\n",
    "    for node in search_deliver_graph.graph.nodes:\n",
    "        total_payloads += search_deliver_graph.graph.nodes[node]['payloads']\n",
    "    \n",
    "    assert total_payloads == search_deliver_graph.getTotalPayloads()\n",
    "    assert total_people == search_deliver_graph.getTotalPayloads()\n",
    "    print(\"SUCCESS\")"
   ]
  },
  {
   "cell_type": "code",
   "execution_count": null,
   "metadata": {},
   "outputs": [],
   "source": [
    "sdg2 = SDGraph(\"test_9nodes_25payloads.graph\")\n",
    "for node in sorted(sdg2.graph.nodes, key=lambda x: sdg2.graph.nodes[x]['id']):\n",
    "    print(node, sdg2.graph.nodes[node]['people'] == sdg.graph.nodes[node]['people'] and sdg2.graph.nodes[node]['payloads'] == sdg.graph.nodes[node]['payloads'])"
   ]
  },
  {
   "cell_type": "code",
   "execution_count": 4,
   "metadata": {},
   "outputs": [
    {
     "name": "stdout",
     "output_type": "stream",
     "text": [
      "SUCCESS\n",
      "SUCCESS\n"
     ]
    }
   ],
   "source": [
    "sdg_test = SDGraph(\"sdzoo/env/9nodes.graph\")\n",
    "check_graph(sdg_test)\n",
    "sdg_test.reset()\n",
    "check_graph(sdg_test)"
   ]
  },
  {
   "cell_type": "code",
   "execution_count": null,
   "metadata": {},
   "outputs": [],
   "source": [
    "env = parallel_env(sd_graph=sdg, num_agents=1, observe_method=\"pyg\")\n",
    "agent = env.agents[0]\n",
    "env.reset(seed=42)"
   ]
  },
  {
   "cell_type": "code",
   "execution_count": null,
   "metadata": {},
   "outputs": [],
   "source": [
    "reached, stepSize = env._moveTowardsNode(agent, 5, 40.0)\n",
    "env._loadPayload(agent)\n",
    "reached, stepSize = env._moveTowardsNode(agent, 1, 40.0)\n",
    "env._dropPayload(agent)\n",
    "reached, stepSize = env._moveTowardsNode(agent, 5, 40.0)\n",
    "env._loadPayload(agent)\n",
    "reached, stepSize = env._moveTowardsNode(agent, 1, 40.0)\n",
    "env._dropPayload(agent)"
   ]
  },
  {
   "cell_type": "code",
   "execution_count": null,
   "metadata": {},
   "outputs": [],
   "source": [
    "obs = env.observe(agent)"
   ]
  },
  {
   "cell_type": "code",
   "execution_count": null,
   "metadata": {},
   "outputs": [],
   "source": [
    "from onpolicy.scripts.train_sd_scripts.experiment_name import get_experiment_name\n",
    "get_experiment_name(\"alpha\", \"increase-gnn\")"
   ]
  },
  {
   "cell_type": "markdown",
   "metadata": {},
   "source": []
  },
  {
   "cell_type": "code",
   "execution_count": null,
   "metadata": {},
   "outputs": [],
   "source": []
  },
  {
   "cell_type": "code",
   "execution_count": null,
   "metadata": {},
   "outputs": [],
   "source": []
  }
 ],
 "metadata": {
  "kernelspec": {
   "display_name": "sdzoo",
   "language": "python",
   "name": "python3"
  },
  "language_info": {
   "codemirror_mode": {
    "name": "ipython",
    "version": 3
   },
   "file_extension": ".py",
   "mimetype": "text/x-python",
   "name": "python",
   "nbconvert_exporter": "python",
   "pygments_lexer": "ipython3",
   "version": "3.10.13"
  }
 },
 "nbformat": 4,
 "nbformat_minor": 2
}
