{
 "cells": [
  {
   "cell_type": "code",
   "execution_count": 13,
   "metadata": {},
   "outputs": [],
   "source": [
    "%reload_ext autoreload\n",
    "%autoreload 2\n",
    "import os\n",
    "import networkx as nx\n",
    "\n",
    "from sdzoo.env.sdzoo import parallel_env\n",
    "from sdzoo.env.sd_graph import SDGraph\n"
   ]
  },
  {
   "cell_type": "code",
   "execution_count": 21,
   "metadata": {},
   "outputs": [
    {
     "name": "stdout",
     "output_type": "stream",
     "text": [
      "Finished generating random graph with 9 nodes and degree [(0, 3), (1, 5), (2, 2), (3, 3), (4, 1), (5, 3), (6, 4), (7, 2), (8, 3)].\n"
     ]
    }
   ],
   "source": [
    "sdg = SDGraph(numNodes=9, payloads=25)\n",
    "sdg.exportToFile(\"test_9nodes_25payloads.graph\")"
   ]
  },
  {
   "cell_type": "code",
   "execution_count": 23,
   "metadata": {},
   "outputs": [
    {
     "name": "stdout",
     "output_type": "stream",
     "text": [
      "0 {'pos': (73.20639743228692, 97.37780895521058), 'nodeType': <NODE_TYPE.OBSERVABLE_NODE: 0>, 'id': 0, 'depot': True, 'people': 0, 'payloads': 4, 'deficit': 0, 'surplus': 4}\n",
      "1 {'pos': (77.72784565688247, 130.99999649748327), 'nodeType': <NODE_TYPE.OBSERVABLE_NODE: 0>, 'id': 1, 'depot': False, 'people': 4, 'payloads': 0, 'deficit': 4, 'surplus': 0}\n",
      "2 {'pos': (96.36553113083848, 144.8429061685646), 'nodeType': <NODE_TYPE.OBSERVABLE_NODE: 0>, 'id': 2, 'depot': False, 'people': 6, 'payloads': 0, 'deficit': 6, 'surplus': 0}\n",
      "3 {'pos': (86.76999491044717, 97.41676460182063), 'nodeType': <NODE_TYPE.OBSERVABLE_NODE: 0>, 'id': 3, 'depot': False, 'people': 4, 'payloads': 0, 'deficit': 4, 'surplus': 0}\n",
      "4 {'pos': (129.91401379254583, 166.80735315222225), 'nodeType': <NODE_TYPE.OBSERVABLE_NODE: 0>, 'id': 4, 'depot': True, 'people': 0, 'payloads': 10, 'deficit': 0, 'surplus': 10}\n",
      "5 {'pos': (55.56063825195896, 112.94900276006278), 'nodeType': <NODE_TYPE.OBSERVABLE_NODE: 0>, 'id': 5, 'depot': False, 'people': 4, 'payloads': 0, 'deficit': 4, 'surplus': 0}\n",
      "6 {'pos': (107.53477500589635, 139.7813266650327), 'nodeType': <NODE_TYPE.OBSERVABLE_NODE: 0>, 'id': 6, 'depot': False, 'people': 3, 'payloads': 0, 'deficit': 3, 'surplus': 0}\n",
      "7 {'pos': (135.89017677965592, 121.34643477863747), 'nodeType': <NODE_TYPE.OBSERVABLE_NODE: 0>, 'id': 7, 'depot': True, 'people': 0, 'payloads': 11, 'deficit': 0, 'surplus': 11}\n",
      "8 {'pos': (132.05430126397349, 137.55245551821943), 'nodeType': <NODE_TYPE.OBSERVABLE_NODE: 0>, 'id': 8, 'depot': False, 'people': 4, 'payloads': 0, 'deficit': 4, 'surplus': 0}\n"
     ]
    }
   ],
   "source": [
    "for node in sdg.graph.nodes:\n",
    "    print(node, sdg.graph.nodes[node])"
   ]
  },
  {
   "cell_type": "code",
   "execution_count": 37,
   "metadata": {},
   "outputs": [],
   "source": [
    "def check_graph(search_deliver_graph):\n",
    "    total_people = 0\n",
    "    for node in search_deliver_graph.graph.nodes:\n",
    "        total_people += search_deliver_graph.graph.nodes[node]['people']\n",
    "\n",
    "    total_payloads = 0\n",
    "    for node in search_deliver_graph.graph.nodes:\n",
    "        total_payloads += search_deliver_graph.graph.nodes[node]['payloads']\n",
    "    \n",
    "    assert total_payloads == search_deliver_graph.getTotalPayloads()\n",
    "    assert total_people == search_deliver_graph.getTotalPayloads()\n",
    "    print(\"SUCCESS\")"
   ]
  },
  {
   "cell_type": "code",
   "execution_count": 38,
   "metadata": {},
   "outputs": [
    {
     "name": "stdout",
     "output_type": "stream",
     "text": [
      "0 True\n",
      "1 True\n",
      "2 True\n",
      "3 True\n",
      "4 True\n",
      "5 True\n",
      "6 True\n",
      "7 True\n",
      "8 True\n"
     ]
    }
   ],
   "source": [
    "sdg2 = SDGraph(\"test_9nodes_25payloads.graph\")\n",
    "for node in sorted(sdg2.graph.nodes, key=lambda x: sdg2.graph.nodes[x]['id']):\n",
    "    print(node, sdg2.graph.nodes[node]['people'] == sdg.graph.nodes[node]['people'] and sdg2.graph.nodes[node]['payloads'] == sdg.graph.nodes[node]['payloads'])"
   ]
  },
  {
   "cell_type": "code",
   "execution_count": 39,
   "metadata": {},
   "outputs": [
    {
     "name": "stdout",
     "output_type": "stream",
     "text": [
      "SUCCESS\n"
     ]
    }
   ],
   "source": [
    "sdg_test = SDGraph(\"sdzoo/env/9nodes.graph\")\n",
    "check_graph(sdg_test)"
   ]
  },
  {
   "cell_type": "code",
   "execution_count": null,
   "metadata": {},
   "outputs": [],
   "source": [
    "env = parallel_env(sd_graph=sdg, num_agents=1, observe_method=\"pyg\")\n",
    "agent = env.agents[0]\n",
    "env.reset(seed=42)"
   ]
  },
  {
   "cell_type": "code",
   "execution_count": 3,
   "metadata": {},
   "outputs": [
    {
     "data": {
      "text/plain": [
       "50.0"
      ]
     },
     "execution_count": 3,
     "metadata": {},
     "output_type": "execute_result"
    }
   ],
   "source": [
    "reached, stepSize = env._moveTowardsNode(agent, 5, 40.0)\n",
    "env._loadPayload(agent)\n",
    "reached, stepSize = env._moveTowardsNode(agent, 1, 40.0)\n",
    "env._dropPayload(agent)\n",
    "reached, stepSize = env._moveTowardsNode(agent, 5, 40.0)\n",
    "env._loadPayload(agent)\n",
    "reached, stepSize = env._moveTowardsNode(agent, 1, 40.0)\n",
    "env._dropPayload(agent)"
   ]
  },
  {
   "cell_type": "code",
   "execution_count": 6,
   "metadata": {},
   "outputs": [],
   "source": [
    "obs = env.observe(agent)"
   ]
  },
  {
   "cell_type": "code",
   "execution_count": 1,
   "metadata": {},
   "outputs": [
    {
     "data": {
      "text/plain": [
       "'sd-alpha-increase-gnn-more-depots'"
      ]
     },
     "execution_count": 1,
     "metadata": {},
     "output_type": "execute_result"
    }
   ],
   "source": [
    "from onpolicy.scripts.train_sd_scripts.experiment_name import get_experiment_name\n",
    "get_experiment_name(\"alpha\", \"increase-gnn\")"
   ]
  },
  {
   "cell_type": "markdown",
   "metadata": {},
   "source": []
  },
  {
   "cell_type": "code",
   "execution_count": 5,
   "metadata": {},
   "outputs": [
    {
     "data": {
      "text/plain": [
       "[2, 3, 4, 5, 6]"
      ]
     },
     "execution_count": 5,
     "metadata": {},
     "output_type": "execute_result"
    }
   ],
   "source": []
  },
  {
   "cell_type": "code",
   "execution_count": null,
   "metadata": {},
   "outputs": [],
   "source": []
  }
 ],
 "metadata": {
  "kernelspec": {
   "display_name": "sdzoo",
   "language": "python",
   "name": "python3"
  },
  "language_info": {
   "codemirror_mode": {
    "name": "ipython",
    "version": 3
   },
   "file_extension": ".py",
   "mimetype": "text/x-python",
   "name": "python",
   "nbconvert_exporter": "python",
   "pygments_lexer": "ipython3",
   "version": "3.10.13"
  }
 },
 "nbformat": 4,
 "nbformat_minor": 2
}
