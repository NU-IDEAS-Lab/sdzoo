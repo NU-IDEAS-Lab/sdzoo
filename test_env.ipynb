{
 "cells": [
  {
   "cell_type": "code",
   "execution_count": 1,
   "metadata": {},
   "outputs": [],
   "source": [
    "%reload_ext autoreload\n",
    "%autoreload 2\n",
    "import os\n",
    "import networkx as nx\n",
    "\n",
    "from sdzoo.env.sdzoo import parallel_env\n",
    "from sdzoo.env.sd_graph import SDGraph\n"
   ]
  },
  {
   "cell_type": "code",
   "execution_count": 2,
   "metadata": {},
   "outputs": [
    {
     "data": {
      "text/plain": [
       "({Agent 0: {'position': (80.0, 25.0), 'payloads': 0, 'max_capacity': 1, 'currentState': 1, 'lastNode': 1, 'edge': None, 'currentAction': -1.0, 'speed': 1.0, 'observationRadius': inf}: array([4, 0,\n",
       "         Data(edge_index=[2, 26], pos=[10, 2], id=[10], depot=[10], people=[10], payloads=[10], lastNode=[10], currentAction=[10], x=[10, 5], edge_attr=[26, 2], agent_idx=1, agent_mask=[10], neighbors=[2], neighbors_mask=[50])],\n",
       "        dtype=object)},\n",
       " {Agent 0: {'position': (80.0, 25.0), 'payloads': 0, 'max_capacity': 1, 'currentState': 1, 'lastNode': 1, 'edge': None, 'currentAction': -1.0, 'speed': 1.0, 'observationRadius': inf}: {'ready': True}})"
      ]
     },
     "execution_count": 2,
     "metadata": {},
     "output_type": "execute_result"
    }
   ],
   "source": [
    "sdg = SDGraph(\"/home/gyaan/data/sdzoo/sdzoo/env/9nodes.graph\")\n",
    "env = parallel_env(sd_graph=sdg, num_agents=1, observe_method=\"pyg\")\n",
    "agent = env.agents[0]\n",
    "env.reset(seed=42)"
   ]
  },
  {
   "cell_type": "code",
   "execution_count": 3,
   "metadata": {},
   "outputs": [
    {
     "data": {
      "text/plain": [
       "50.0"
      ]
     },
     "execution_count": 3,
     "metadata": {},
     "output_type": "execute_result"
    }
   ],
   "source": [
    "reached, stepSize = env._moveTowardsNode(agent, 5, 40.0)\n",
    "env._loadPayload(agent)\n",
    "reached, stepSize = env._moveTowardsNode(agent, 1, 40.0)\n",
    "env._dropPayload(agent)\n",
    "reached, stepSize = env._moveTowardsNode(agent, 5, 40.0)\n",
    "env._loadPayload(agent)\n",
    "reached, stepSize = env._moveTowardsNode(agent, 1, 40.0)\n",
    "env._dropPayload(agent)"
   ]
  },
  {
   "cell_type": "code",
   "execution_count": 6,
   "metadata": {},
   "outputs": [],
   "source": [
    "obs = env.observe(agent)"
   ]
  },
  {
   "cell_type": "code",
   "execution_count": null,
   "metadata": {},
   "outputs": [],
   "source": []
  },
  {
   "cell_type": "markdown",
   "metadata": {},
   "source": []
  },
  {
   "cell_type": "code",
   "execution_count": 5,
   "metadata": {},
   "outputs": [
    {
     "data": {
      "text/plain": [
       "[2, 3, 4, 5, 6]"
      ]
     },
     "execution_count": 5,
     "metadata": {},
     "output_type": "execute_result"
    }
   ],
   "source": []
  },
  {
   "cell_type": "code",
   "execution_count": null,
   "metadata": {},
   "outputs": [],
   "source": []
  }
 ],
 "metadata": {
  "kernelspec": {
   "display_name": "sdzoo",
   "language": "python",
   "name": "python3"
  },
  "language_info": {
   "codemirror_mode": {
    "name": "ipython",
    "version": 3
   },
   "file_extension": ".py",
   "mimetype": "text/x-python",
   "name": "python",
   "nbconvert_exporter": "python",
   "pygments_lexer": "ipython3",
   "version": "3.10.13"
  }
 },
 "nbformat": 4,
 "nbformat_minor": 2
}
