{
 "cells": [
  {
   "cell_type": "markdown",
   "metadata": {},
   "source": [
    "# MAPPO Evaluation & Rendering\n",
    "\n",
    "This runs the trained MAPPO policy with the patrolling zoo."
   ]
  },
  {
   "cell_type": "code",
   "execution_count": null,
   "metadata": {},
   "outputs": [],
   "source": [
    "%reload_ext autoreload\n",
    "%autoreload 2\n",
    "from onpolicy.scripts.render.render_patrolling import get_config, parse_args, main\n",
    "\n",
    "import os\n",
    "import yaml\n",
    "os.environ[\"WANDB__SERVICE_WAIT\"] = \"300\""
   ]
  },
  {
   "cell_type": "markdown",
   "metadata": {},
   "source": [
    "## Configuration"
   ]
  },
  {
   "cell_type": "code",
   "execution_count": null,
   "metadata": {},
   "outputs": [],
   "source": [
    "# Set the run directory.\n",
    "model_dir = \"/home/gyaan/data/sdzoo/onpolicy/scripts/results/search-deliver/9nodes/mappo/sd-alpha-more-depots/wandb/run-20240516_203834-zwxp7qho/files\""
   ]
  },
  {
   "cell_type": "code",
   "execution_count": null,
   "metadata": {},
   "outputs": [],
   "source": [
    "# Load the default arguments.\n",
    "parser = get_config()\n",
    "all_args = parse_args([], parser)\n",
    "\n",
    "# Load new arguments from the config file.\n",
    "config_file = os.path.join(model_dir, \"config.yaml\")\n",
    "args = yaml.load(open(config_file), Loader=yaml.FullLoader)\n",
    "\n",
    "# Convert the arguments to a Namespace object.\n",
    "for a in args:\n",
    "    if type(args[a]) == dict and \"value\" in args[a]:\n",
    "        args[a] = args[a][\"value\"]\n",
    "for a in args:\n",
    "    setattr(all_args, a, args[a])\n",
    "\n",
    "# Set required render-specific arguments. Do not change these!\n",
    "all_args.use_wandb = False\n",
    "all_args.use_render = True\n",
    "all_args.model_dir = model_dir\n",
    "all_args.cuda = False"
   ]
  },
  {
   "cell_type": "code",
   "execution_count": null,
   "metadata": {},
   "outputs": [],
   "source": [
    "# Feel free to change these arguments.\n",
    "all_args.render_episodes = 1\n",
    "# all_args.episode_length = 500\n",
    "# all_args.max_cycles = all_args.episode_length\n",
    "\n",
    "# all_args.skip_steps_sync = False\n",
    "# all_args.agent_speed = 20.0\n",
    "all_args.num_agents = 4\n",
    "# all_args.observation_radius = 9999999\n",
    "# all_args.graph_random = True\n",
    "# all_args.graph_random_nodes = 42\n",
    "\n",
    "# all_args.attrition_method = \"fixed_time\"\n",
    "# all_args.attrition_fixed_times = [300, 1100]\n",
    "\n",
    "all_args.graph_name = \"9nodes\"\n",
    "all_args.graph_file = f\"../../../sdzoo/env/{all_args.graph_name}.graph\""
   ]
  },
  {
   "cell_type": "markdown",
   "metadata": {},
   "source": [
    "## Perform Rendering"
   ]
  },
  {
   "cell_type": "code",
   "execution_count": null,
   "metadata": {},
   "outputs": [],
   "source": [
    "main([], parsed_args = all_args)"
   ]
  }
 ],
 "metadata": {
  "kernelspec": {
   "display_name": "patrolling_zoo2",
   "language": "python",
   "name": "python3"
  },
  "language_info": {
   "codemirror_mode": {
    "name": "ipython",
    "version": 3
   },
   "file_extension": ".py",
   "mimetype": "text/x-python",
   "name": "python",
   "nbconvert_exporter": "python",
   "pygments_lexer": "ipython3",
   "version": "3.10.13"
  },
  "orig_nbformat": 4
 },
 "nbformat": 4,
 "nbformat_minor": 2
}
