{
 "cells": [
  {
   "cell_type": "markdown",
   "metadata": {},
   "source": [
    "# MAPPO Integration\n",
    "\n",
    "This runs the integrated MAPPO algorithm with the patrolling zoo."
   ]
  },
  {
   "cell_type": "code",
   "execution_count": 1,
   "metadata": {},
   "outputs": [],
   "source": [
    "%reload_ext autoreload\n",
    "%autoreload 2\n",
    "from onpolicy.scripts.train.train_sd import get_config, parse_args, main\n",
    "\n",
    "import os\n",
    "os.environ[\"WANDB__SERVICE_WAIT\"] = \"300\""
   ]
  },
  {
   "cell_type": "code",
   "execution_count": 2,
   "metadata": {},
   "outputs": [],
   "source": [
    "\n",
    "\n",
    "import numpy as np\n",
    "\n",
    "parser = get_config()\n",
    "all_args = parse_args([], parser)\n",
    "\n",
    "all_args.experiment_name = \"metric-test\"\n",
    "all_args.env_name = \"search-deliver\"\n",
    "all_args.user_name = \"ideas-mas\"\n",
    "\n",
    "all_args.num_agents = 4\n",
    "all_args.agent_speed = 40.0\n",
    "all_args.action_method = \"neighbors\"\n",
    "all_args.observe_method = \"pyg\"\n",
    "all_args.observe_method_global = \"adjacency\"\n",
    "all_args.observation_radius = 40.0\n",
    "all_args.observation_bitmap_size = 40\n",
    "all_args.communication_model = \"bernoulli\"\n",
    "all_args.communication_probability = 1.0\n",
    "all_args.alpha = 1.2\n",
    "all_args.beta = 1.0\n",
    "\n",
    "\n",
    "all_args.drop_reward = 1.0\n",
    "all_args.load_reward = 1.0\n",
    "all_args.step_reward = 0.0\n",
    "all_args.state_reward = 1.0\n",
    "all_args.agent_max_capacity = 1\n",
    "# all_args.reward_method_terminal = \"averageAverage\"\n",
    "all_args.reward_method_terminal = \"average\"\n",
    "# all_args.reward_interval = 1\n",
    "\n",
    "# all_args.graph_random = True\n",
    "# all_args.graph_random_nodes = 9\n",
    "all_args.graph_name = \"9nodes\"\n",
    "all_args.graph_file = f\"../../../sdzoo/env/{all_args.graph_name}.graph\"\n",
    "# all_args.num_env_steps = 10000 #total number of steps\n",
    "all_args.num_env_steps = 5000 #1e5 * 2.5 #total number of steps\n",
    "all_args.episode_length = 20 #number of steps in a training episode\n",
    "all_args.max_cycles = all_args.episode_length #number of steps in an environment episode\n",
    "\n",
    "all_args.algorithm_name = \"mappo\"\n",
    "all_args.use_gnn_policy = True\n",
    "all_args.use_gnn_mlp_policy = True\n",
    "all_args.gnn_layer_N = 6\n",
    "all_args.gnn_hidden_size = 128\n",
    "all_args.gnn_skip_connections = True\n",
    "all_args.use_recurrent_policy = True\n",
    "all_args.use_naive_recurrent_policy = False\n",
    "all_args.use_centralized_V = True\n",
    "all_args.use_gae = False\n",
    "all_args.use_gae_amadm = True\n",
    "all_args.share_policy = True\n",
    "all_args.sep_share_policy = False\n",
    "all_args.share_reward = False\n",
    "all_args.skip_steps_sync = True # these need to be false to use max cycles\n",
    "all_args.skip_steps_async = False\n",
    "all_args.use_ReLU = True\n",
    "# all_args.lr = 1e-3\n",
    "# all_args.entropy_coef = 0.1\n",
    "all_args.hidden_size = 512\n",
    "\n",
    "all_args.n_rollout_threads = 1\n",
    "all_args.save_interval = 1000\n",
    "all_args.cuda = False\n",
    "all_args.cuda_idx = 3\n",
    "\n",
    "all_args.use_wandb = False\n"
   ]
  },
  {
   "cell_type": "code",
   "execution_count": 4,
   "metadata": {},
   "outputs": [
    {
     "name": "stdout",
     "output_type": "stream",
     "text": [
      "u are choosing to use mappo, we set use_recurrent_policy & use_naive_recurrent_policy to be False\n",
      "choose to use cpu...\n"
     ]
    },
    {
     "name": "stderr",
     "output_type": "stream",
     "text": [
      "/home/gyaan/anaconda3/envs/sdzoo/lib/python3.10/site-packages/pettingzoo/utils/conversions.py:252: UserWarning: The base environment `SDZoo Environment\n",
      "Graph: Graph with 9 nodes and 10 edges:\n",
      "{0: {'pos': (40.0, 25.0), 'id': 0, 'nodeType': <NODE_TYPE.OBSERVABLE_NODE: 0>, 'depot': False, 'people': 3, 'payloads': 0, 'surplus': 0, 'deficit': 3}, 1: {'pos': (80.0, 25.0), 'id': 1, 'nodeType': <NODE_TYPE.OBSERVABLE_NODE: 0>, 'depot': False, 'people': 4, 'payloads': 0, 'surplus': 0, 'deficit': 4}, 3: {'pos': (40.0, 40.0), 'id': 3, 'nodeType': <NODE_TYPE.OBSERVABLE_NODE: 0>, 'depot': False, 'people': 5, 'payloads': 0, 'surplus': 0, 'deficit': 5}, 4: {'pos': (60.0, 40.0), 'id': 4, 'nodeType': <NODE_TYPE.OBSERVABLE_NODE: 0>, 'depot': False, 'people': 6, 'payloads': 0, 'surplus': 0, 'deficit': 6}, 5: {'pos': (80.0, 40.0), 'id': 5, 'nodeType': <NODE_TYPE.OBSERVABLE_NODE: 0>, 'depot': True, 'people': 0, 'payloads': 25, 'surplus': 25, 'deficit': 0}, 2: {'pos': (20.0, 40.0), 'id': 2, 'nodeType': <NODE_TYPE.OBSERVABLE_NODE: 0>, 'depot': False, 'people': 3, 'payloads': 0, 'surplus': 0, 'deficit': 3}, 6: {'pos': (40.0, 55.0), 'id': 6, 'nodeType': <NODE_TYPE.OBSERVABLE_NODE: 0>, 'depot': False, 'people': 1, 'payloads': 0, 'surplus': 0, 'deficit': 1}, 7: {'pos': (80.0, 55.0), 'id': 7, 'nodeType': <NODE_TYPE.OBSERVABLE_NODE: 0>, 'depot': False, 'people': 3, 'payloads': 0, 'surplus': 0, 'deficit': 3}, 8: {'pos': (100.0, 55.0), 'id': 8, 'nodeType': <NODE_TYPE.OBSERVABLE_NODE: 0>, 'depot': False, 'people': 0, 'payloads': 0, 'surplus': 0, 'deficit': 0}}\n",
      "Agents: [Agent 0: {'position': (20.0, 40.0), 'payloads': 0, 'max_capacity': 1, 'currentState': 1, 'lastNode': 2, 'edge': None, 'currentAction': -1.0, 'speed': 40.0, 'observationRadius': 40.0}, Agent 1: {'position': (60.0, 40.0), 'payloads': 0, 'max_capacity': 1, 'currentState': 1, 'lastNode': 4, 'edge': None, 'currentAction': -1.0, 'speed': 40.0, 'observationRadius': 40.0}, Agent 2: {'position': (100.0, 55.0), 'payloads': 0, 'max_capacity': 1, 'currentState': 1, 'lastNode': 8, 'edge': None, 'currentAction': -1.0, 'speed': 40.0, 'observationRadius': 40.0}, Agent 3: {'position': (80.0, 25.0), 'payloads': 0, 'max_capacity': 1, 'currentState': 1, 'lastNode': 1, 'edge': None, 'currentAction': -1.0, 'speed': 40.0, 'observationRadius': 40.0}]\n",
      "Observation Method: pyg\n",
      "Action Method: neighbors` does not have a `render_mode` defined.\n",
      "  warnings.warn(\n"
     ]
    }
   ],
   "source": [
    "main([], parsed_args = all_args)"
   ]
  },
  {
   "cell_type": "code",
   "execution_count": null,
   "metadata": {},
   "outputs": [],
   "source": []
  }
 ],
 "metadata": {
  "kernelspec": {
   "display_name": "patrolling_zoo2",
   "language": "python",
   "name": "python3"
  },
  "language_info": {
   "codemirror_mode": {
    "name": "ipython",
    "version": 3
   },
   "file_extension": ".py",
   "mimetype": "text/x-python",
   "name": "python",
   "nbconvert_exporter": "python",
   "pygments_lexer": "ipython3",
   "version": "3.10.13"
  },
  "orig_nbformat": 4
 },
 "nbformat": 4,
 "nbformat_minor": 2
}
